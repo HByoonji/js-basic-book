{
  "nbformat": 4,
  "nbformat_minor": 0,
  "metadata": {
    "colab": {
      "name": "ch3.ipynb",
      "provenance": [],
      "toc_visible": true,
      "authorship_tag": "ABX9TyP87S8OA6L/L6qC1+OazRxK",
      "include_colab_link": true
    },
    "kernelspec": {
      "name": "python3",
      "display_name": "Python 3"
    }
  },
  "cells": [
    {
      "cell_type": "markdown",
      "metadata": {
        "id": "view-in-github",
        "colab_type": "text"
      },
      "source": [
        "<a href=\"https://colab.research.google.com/github/deulkkae/js-basic-book/blob/master/ch3.ipynb\" target=\"_parent\"><img src=\"https://colab.research.google.com/assets/colab-badge.svg\" alt=\"Open In Colab\"/></a>"
      ]
    },
    {
      "cell_type": "markdown",
      "metadata": {
        "id": "JtCK6l0otKih",
        "colab_type": "text"
      },
      "source": [
        "# ch3. 조건문"
      ]
    },
    {
      "cell_type": "code",
      "metadata": {
        "id": "jodSCnIPkmoD",
        "colab_type": "code",
        "colab": {
          "base_uri": "https://localhost:8080/",
          "height": 125
        },
        "outputId": "6e069a17-8251-4352-ab08-4ab64e5f8ef4"
      },
      "source": [
        "print(10 == 100)\n",
        "print(10 != 100)\n",
        "print(10 < 100)\n",
        "print(10 > 100)\n",
        "print(10 <= 100)\n",
        "print(10 >= 100)"
      ],
      "execution_count": 1,
      "outputs": [
        {
          "output_type": "stream",
          "text": [
            "False\n",
            "True\n",
            "True\n",
            "False\n",
            "True\n",
            "False\n"
          ],
          "name": "stdout"
        }
      ]
    },
    {
      "cell_type": "markdown",
      "metadata": {
        "id": "ZusDbOIIsIJi",
        "colab_type": "text"
      },
      "source": [
        "한글은 사전 순서(가나다순)로 앞에 있는 것이 작은 값을 갖습니다. 예를 들어 '가방’과 ‘하마’를 비교하면 사전 순서로 ‘가방’이 앞에\n",
        "있으므로 ‘가방’이 ‘하마’보다 작은 값을 갖습니다."
      ]
    },
    {
      "cell_type": "code",
      "metadata": {
        "id": "DLMposD2sM2Q",
        "colab_type": "code",
        "colab": {
          "base_uri": "https://localhost:8080/",
          "height": 89
        },
        "outputId": "4217b65b-55b1-4f52-c564-4f89a1f9f01f"
      },
      "source": [
        "print(\"가방\" == \"가방\")\n",
        "print(\"가방\" != \"하마\")\n",
        "print(\"가방\" < \"하마\")\n",
        "print(\"가방\" > \"하마\")"
      ],
      "execution_count": 2,
      "outputs": [
        {
          "output_type": "stream",
          "text": [
            "True\n",
            "True\n",
            "True\n",
            "False\n"
          ],
          "name": "stdout"
        }
      ]
    },
    {
      "cell_type": "code",
      "metadata": {
        "id": "5ZpMy_hTsWe1",
        "colab_type": "code",
        "colab": {
          "base_uri": "https://localhost:8080/",
          "height": 53
        },
        "outputId": "63884180-09dc-4cb9-ef90-dbeb06844c39"
      },
      "source": [
        "x = 25\n",
        "print(10 < x < 30)\n",
        "print(40 < x < 60)"
      ],
      "execution_count": 3,
      "outputs": [
        {
          "output_type": "stream",
          "text": [
            "True\n",
            "False\n"
          ],
          "name": "stdout"
        }
      ]
    },
    {
      "cell_type": "code",
      "metadata": {
        "id": "cP2NirXksnJ2",
        "colab_type": "code",
        "colab": {
          "base_uri": "https://localhost:8080/",
          "height": 53
        },
        "outputId": "a7ed1992-0d08-4031-b76c-0c564ccedea6"
      },
      "source": [
        "print(not True)\n",
        "print(not False)"
      ],
      "execution_count": 5,
      "outputs": [
        {
          "output_type": "stream",
          "text": [
            "False\n",
            "True\n"
          ],
          "name": "stdout"
        }
      ]
    },
    {
      "cell_type": "code",
      "metadata": {
        "id": "TktusR5Ws1is",
        "colab_type": "code",
        "colab": {
          "base_uri": "https://localhost:8080/",
          "height": 71
        },
        "outputId": "a760fabb-9efd-4de3-f748-ab4be92b3064"
      },
      "source": [
        "x = 10\n",
        "under_20 = x < 20\n",
        "print(under_20)\n",
        "print(\"under_20:\", under_20)\n",
        "print(\"not under_20:\", not under_20)"
      ],
      "execution_count": 7,
      "outputs": [
        {
          "output_type": "stream",
          "text": [
            "True\n",
            "under_20: True\n",
            "not under_20: False\n"
          ],
          "name": "stdout"
        }
      ]
    },
    {
      "cell_type": "code",
      "metadata": {
        "id": "XzwMzrG5tvIT",
        "colab_type": "code",
        "colab": {
          "base_uri": "https://localhost:8080/",
          "height": 161
        },
        "outputId": "ebb3a5fa-a020-401e-8f6d-cff52d931a70"
      },
      "source": [
        "print(True and True) #ture\n",
        "print(True and False) #false\n",
        "print(False and True) #false\n",
        "print(False and False) #false\n",
        "print(True or True) #ture\n",
        "print(True or False) #ture\n",
        "print(False or True) #true\n",
        "print(False or False) # false"
      ],
      "execution_count": 9,
      "outputs": [
        {
          "output_type": "stream",
          "text": [
            "True\n",
            "False\n",
            "False\n",
            "False\n",
            "True\n",
            "True\n",
            "True\n",
            "False\n"
          ],
          "name": "stdout"
        }
      ]
    },
    {
      "cell_type": "code",
      "metadata": {
        "id": "DJLa9yj9uqyt",
        "colab_type": "code",
        "colab": {
          "base_uri": "https://localhost:8080/",
          "height": 53
        },
        "outputId": "30aa3fd5-2078-467e-a313-868331f91dc0"
      },
      "source": [
        "if True: \n",
        "    print(\"True 입니다.\")\n",
        "    print(\"if 값이 True 이면 print를 출력합니다.\")"
      ],
      "execution_count": 13,
      "outputs": [
        {
          "output_type": "stream",
          "text": [
            "True 입니다.\n",
            "if 값이 True 이면 print를 출력합니다.\n"
          ],
          "name": "stdout"
        }
      ]
    },
    {
      "cell_type": "code",
      "metadata": {
        "id": "6jGlQazku-ko",
        "colab_type": "code",
        "colab": {}
      },
      "source": [
        "if False:\n",
        "    print(\"if 뒤에 나오는 불 값이 False이면 출력이 되지 않는다.\")"
      ],
      "execution_count": 0,
      "outputs": []
    },
    {
      "cell_type": "code",
      "metadata": {
        "id": "iBQiCtXNvPsp",
        "colab_type": "code",
        "colab": {
          "base_uri": "https://localhost:8080/",
          "height": 53
        },
        "outputId": "2bcdb19e-f857-4633-b167-bbd93a8442eb"
      },
      "source": [
        "# 입력을 받습니다.\n",
        "number = input(\"정수 입력> \")\n",
        "number = int(number)\n",
        "\n",
        "# 양수 조건\n",
        "if number > 0:\n",
        "    print(\"양수입니다\")\n",
        "\n",
        "# 음수 조건\n",
        "if number < 0:\n",
        "    print(\"음수입니다\")\n",
        "\n",
        "# 0 조건\n",
        "if number == 0:\n",
        "    print(\"0입니다\")    "
      ],
      "execution_count": 18,
      "outputs": [
        {
          "output_type": "stream",
          "text": [
            "정수 입력> 0\n",
            "0입니다\n"
          ],
          "name": "stdout"
        }
      ]
    },
    {
      "cell_type": "code",
      "metadata": {
        "id": "J_oTVIUov9F1",
        "colab_type": "code",
        "colab": {
          "base_uri": "https://localhost:8080/",
          "height": 125
        },
        "outputId": "cc63b465-20ec-4c12-ec01-1f827f998986"
      },
      "source": [
        "# 날짜/시간과 관련된 기능을 가져옵니다.\n",
        "import datetime\n",
        "\n",
        "# 현재 날짜/시간을 구합니다. datetime.datetime.now( )라는 함수로 현재의 시간을 구해 now라는 변수에 대입합니다\n",
        "now = datetime.datetime.now()\n",
        "\n",
        "# 출력합니다.\n",
        "print(now.year, \"년\")\n",
        "print(now.month, \"월\")\n",
        "print(now.day, \"일\")\n",
        "print(now.hour, \"시\")\n",
        "print(now.minute, \"분\")\n",
        "print(now.second, \"초\")"
      ],
      "execution_count": 25,
      "outputs": [
        {
          "output_type": "stream",
          "text": [
            "2020 년\n",
            "3 월\n",
            "25 일\n",
            "12 시\n",
            "54 분\n",
            "36 초\n"
          ],
          "name": "stdout"
        }
      ]
    },
    {
      "cell_type": "code",
      "metadata": {
        "id": "CIr8HFcnwPmq",
        "colab_type": "code",
        "colab": {
          "base_uri": "https://localhost:8080/",
          "height": 35
        },
        "outputId": "af463af1-d3ac-4293-a987-e01f95c5792b"
      },
      "source": [
        "import datetime\n",
        "\n",
        "# 현재 날짜/시간을 구합니다.\n",
        "now = datetime.datetime.now()\n",
        "\n",
        "# 출력합니다.\n",
        "print(\"{}년 {}월 {}일 {}시 {}분 {}초\".format(\n",
        "    now.year,\n",
        "    now.month,\n",
        "    now.day,\n",
        "    now.hour,\n",
        "    now.minute,\n",
        "    now.second\n",
        "))"
      ],
      "execution_count": 28,
      "outputs": [
        {
          "output_type": "stream",
          "text": [
            "2020년 3월 25일 12시 56분 46초\n"
          ],
          "name": "stdout"
        }
      ]
    },
    {
      "cell_type": "code",
      "metadata": {
        "id": "4owAAzs6xMSn",
        "colab_type": "code",
        "colab": {
          "base_uri": "https://localhost:8080/",
          "height": 53
        },
        "outputId": "8a737e5c-1f58-4ce2-942c-4f8256bed0a4"
      },
      "source": [
        "# 날짜/시간과 관련된 기능을 가져옵니다.\n",
        "import datetime\n",
        "\n",
        "# 현재 날짜/시간을 구합니다.\n",
        "now = datetime.datetime.now()\n",
        "\n",
        "print(now.hour)\n",
        "\n",
        "# 오전 구분\n",
        "if now.hour < 12:\n",
        "    print(\"현재 시각은 {}시로 오전입니다!\".format(now.hour))\n",
        "\n",
        "# 오후 구분\n",
        "if now.hour >= 12:\n",
        "    print(\"현재 시각은 {}시로 오후입니다!\".format(now.hour))"
      ],
      "execution_count": 39,
      "outputs": [
        {
          "output_type": "stream",
          "text": [
            "13\n",
            "현재 시각은 13시로 오후입니다!\n"
          ],
          "name": "stdout"
        }
      ]
    },
    {
      "cell_type": "code",
      "metadata": {
        "id": "aZtwYzmJyfxl",
        "colab_type": "code",
        "colab": {
          "base_uri": "https://localhost:8080/",
          "height": 35
        },
        "outputId": "bfaf2333-b1bc-4085-c717-e0e2f471e484"
      },
      "source": [
        "import datetime\n",
        "now = datetime.datetime.now()\n",
        "\n",
        "if 3 <= now.month <= 5:\n",
        "    print(\"이번 달은 {}월로 봄입니다.\".format(now.month))\n",
        "\n",
        "if 6 <= now.month <= 8:\n",
        "    print(\"이번 달은 {}월로 여름입니다.\".format(now.month))\n",
        "\n",
        "if 9 <= now.month <= 11:\n",
        "    print(\"이번 달은 {}월로 가을입니다.\".format(now.month))\n",
        "\n",
        "if 12 <= now.month <= 2:\n",
        "    print(\"이번 달은 {}월로 겨울입니다.\".format(now.month))"
      ],
      "execution_count": 43,
      "outputs": [
        {
          "output_type": "stream",
          "text": [
            "이번 달은 3월로 봄입니다.\n"
          ],
          "name": "stdout"
        }
      ]
    },
    {
      "cell_type": "code",
      "metadata": {
        "id": "fipICNgUz4-q",
        "colab_type": "code",
        "colab": {
          "base_uri": "https://localhost:8080/",
          "height": 53
        },
        "outputId": "4ccc35f3-16da-486f-d067-80b307fb22f8"
      },
      "source": [
        "number = input(\"정수를 입력해> \")\n",
        "last_character = number[-1]\n",
        "last_number = int(last_character)\n",
        "\n",
        "if last_number == 0 \\\n",
        "    or last_number == 2 \\\n",
        "    or last_number == 4 \\\n",
        "    or last_number == 6 \\\n",
        "    or last_number == 8:\n",
        "    print(\"짝수다\")"
      ],
      "execution_count": 45,
      "outputs": [
        {
          "output_type": "stream",
          "text": [
            "정수를 입력해> 50\n",
            "짝수다\n"
          ],
          "name": "stdout"
        }
      ]
    },
    {
      "cell_type": "code",
      "metadata": {
        "id": "IvMpsAR305zP",
        "colab_type": "code",
        "colab": {
          "base_uri": "https://localhost:8080/",
          "height": 53
        },
        "outputId": "e261f4c7-52d7-45a9-83e8-a3e706e53dcd"
      },
      "source": [
        "number = input(\"정수를 입력해> \")\n",
        "last_character = number[-1]\n",
        "\n",
        "if last_character in \"02468\":\n",
        "    print(\"짝수다\")\n",
        "\n",
        "if last_character in \"13579\":\n",
        "    print(\"홀수다\")"
      ],
      "execution_count": 49,
      "outputs": [
        {
          "output_type": "stream",
          "text": [
            "정수를 입력해> 123\n",
            "홀수다\n"
          ],
          "name": "stdout"
        }
      ]
    },
    {
      "cell_type": "markdown",
      "metadata": {
        "id": "Nv1CydMJ1rLh",
        "colab_type": "text"
      },
      "source": [
        "컴퓨터는 모든 것을 숫자로 계산하기 때문에 문자열 연산보다 숫자 연산이\n",
        "조금 더 빠릅니다."
      ]
    },
    {
      "cell_type": "code",
      "metadata": {
        "id": "NKLM3D-11Vo5",
        "colab_type": "code",
        "colab": {
          "base_uri": "https://localhost:8080/",
          "height": 53
        },
        "outputId": "89467f19-f2a1-49eb-bdd2-badf7b25ba28"
      },
      "source": [
        "number = input(\"정수를 입력해> \")\n",
        "number = int(number)\n",
        "\n",
        "if number % 2 == 0:\n",
        "    print(\"짝수야\")\n",
        "if number % 2 == 1:\n",
        "    print(\"홀수야\")"
      ],
      "execution_count": 50,
      "outputs": [
        {
          "output_type": "stream",
          "text": [
            "정수를 입력해> 123\n",
            "홀수야\n"
          ],
          "name": "stdout"
        }
      ]
    }
  ]
}